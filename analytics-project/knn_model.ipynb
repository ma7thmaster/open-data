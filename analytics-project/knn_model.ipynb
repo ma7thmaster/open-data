{
 "cells": [
  {
   "cell_type": "code",
   "execution_count": null,
   "metadata": {},
   "outputs": [],
   "source": [
    "from sklearn.neighbors import KNeighborsClassifier\n",
    "from sklearn.model_selection import GridSearchCV \n",
    "param_grid = [{'k': [20,40,60,200,500]}]\n",
    "gs = GridSearchCV(KNeighborsClassifier(),\n",
    "                            param_grid = param_grid,\n",
    "                            refit=True,\n",
    "                            cv=10)\n",
    "\n",
    "gs.fit(X_train,y_train)\n",
    "print(f'Test accuracy: {knn_model.score(X_test,y_test)*100:.2f}%')"
   ]
  },
  {
   "cell_type": "code",
   "execution_count": null,
   "metadata": {},
   "outputs": [],
   "source": [
    "from sklearn.neighbors import KNeighborsClassifier #We'll try 3,5, and 7 for knn\n",
    "knn_model = KNeighborsClassifier(n_neighbors=5)\n",
    "knn_model.fit(X_train,y_train)\n",
    "print(f'Test accuracy: {knn_model.score(X_test,y_test)*100:.2f}%')"
   ]
  },
  {
   "cell_type": "code",
   "execution_count": null,
   "metadata": {},
   "outputs": [],
   "source": [
    "from sklearn.neighbors import KNeighborsClassifier #We'll try 3,5, and 7 for knn\n",
    "knn_model = KNeighborsClassifier(n_neighbors=7)\n",
    "knn_model.fit(X_train,y_train)\n",
    "print(f'Test accuracy: {knn_model.score(X_test,y_test)*100:.2f}%')"
   ]
  }
 ],
 "metadata": {
  "language_info": {
   "name": "python"
  },
  "orig_nbformat": 4
 },
 "nbformat": 4,
 "nbformat_minor": 2
}
